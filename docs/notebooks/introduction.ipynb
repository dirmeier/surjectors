{
 "cells": [
  {
   "cell_type": "markdown",
   "id": "4f6f4229-6b15-4e2b-89af-8957708479d7",
   "metadata": {
    "pycharm": {
     "name": "#%% md\n"
    }
   },
   "source": [
    "# Constructing normalizing flows\n",
    "\n",
    "Here, we demonstrate the usage of several inference funnels [@]"
   ]
  },
  {
   "cell_type": "code",
   "execution_count": 4,
   "id": "9497e202-3f4e-4602-9e90-669545f18816",
   "metadata": {
    "tags": [],
    "pycharm": {
     "name": "#%%\n"
    }
   },
   "outputs": [],
   "source": [
    "import distrax\n",
    "import haiku as hk\n",
    "from jax import numpy as jnp\n",
    "from jax import random as jr"
   ]
  },
  {
   "cell_type": "markdown",
   "id": "bfd96e3f-ef84-454f-a611-0cdc0a629d2d",
   "metadata": {
    "pycharm": {
     "name": "#%% md\n"
    }
   },
   "source": [
    "## How to construct a Haiku module\n",
    "\n",
    "We begin with demonstrating how to construct any normalizing flow exemplified through a `Slice` layer [@]. We first demonstrate the code, before we explain what it does."
   ]
  },
  {
   "cell_type": "code",
   "execution_count": 30,
   "id": "c9db6163-6cb8-4968-8e3d-90d35a5094cf",
   "metadata": {
    "tags": [],
    "pycharm": {
     "name": "#%%\n"
    }
   },
   "outputs": [],
   "source": [
    "from surjectors import Slice, TransformedDistribution\n",
    "from surjectors.nn import make_mlp"
   ]
  },
  {
   "cell_type": "code",
   "execution_count": 61,
   "id": "f78c2fc0-f4f6-476d-8b15-12b4a874ce1d",
   "metadata": {
    "tags": [],
    "pycharm": {
     "name": "#%%\n"
    }
   },
   "outputs": [],
   "source": [
    "def make_flow(n_dimensions):\n",
    "    def flow(**kwargs):\n",
    "        def decoder_fn(n_dim):\n",
    "            def _fn(z):\n",
    "                params = make_mlp([4, n_dim * 2])(z)\n",
    "                means, log_scales = jnp.split(params, 2, -1)\n",
    "                return distrax.Independent(\n",
    "                    distrax.Normal(means, jnp.exp(log_scales)),\n",
    "                    reinterpreted_batch_ndims=1,\n",
    "                )\n",
    "\n",
    "            return _fn\n",
    "\n",
    "        transform = Slice(n_dimensions // 2, decoder_fn(n_dimensions // 2))\n",
    "        base_distribution = distrax.Independent(\n",
    "            distrax.Normal(\n",
    "                jnp.zeros(n_dimensions // 2), jnp.ones(n_dimensions // 2)\n",
    "            ),\n",
    "            reinterpreted_batch_ndims=1,\n",
    "        )\n",
    "        pushforward = TransformedDistribution(base_distribution, transform)\n",
    "        return pushforward(**kwargs)\n",
    "\n",
    "    td = hk.transform(flow)\n",
    "    return td"
   ]
  },
  {
   "cell_type": "markdown",
   "id": "b41e89a1-6df4-4069-a606-4f2412b9dc6a",
   "metadata": {
    "tags": [],
    "pycharm": {
     "name": "#%% md\n"
    }
   },
   "source": [
    "Constructing a Haiku module needs to be done within a `hk.transform` block. This can either be done by providing a function like here and an object. In our case we are using `hk.transform` on `pushforward(**kwargs)` which calls\n",
    "the `__call__` method of `TransformedDistribution`. Since we are generally interested to use to functions of a `TransformedDistribution`, `sample` and `log_prob`, the `__call__` function is implemented to dispatch on a method based on what is provided in `**kwargs`. More on that later."
   ]
  },
  {
   "cell_type": "markdown",
   "id": "689f867c-2259-4713-81b6-5352837cb342",
   "metadata": {
    "pycharm": {
     "name": "#%% md\n"
    }
   },
   "source": [
    "We can now initialize the flow. Let's define a random data set first and then initialize the parameters."
   ]
  },
  {
   "cell_type": "code",
   "execution_count": 65,
   "id": "cf91f2ce-6ba9-438c-95a7-ec9dcfbfea17",
   "metadata": {
    "tags": [],
    "pycharm": {
     "name": "#%%\n"
    }
   },
   "outputs": [
    {
     "data": {
      "text/plain": [
       "{'mlp/~/linear_0': {'w': Array([[ 0.00938151,  0.00138335,  0.0027178 ,  0.00052393],\n",
       "         [ 0.00773658,  0.00142679, -0.00033992,  0.00513109],\n",
       "         [ 0.01221598,  0.01620722,  0.009937  , -0.00184268],\n",
       "         [-0.00059485,  0.00240193,  0.01265547, -0.00374089],\n",
       "         [-0.0061826 , -0.01318036, -0.00686558, -0.01773127]],      dtype=float32),\n",
       "  'b': Array([0., 0., 0., 0.], dtype=float32)},\n",
       " 'mlp/~/linear_1': {'w': Array([[-0.01119876, -0.01138027,  0.0113112 , -0.01312024,  0.00154802,\n",
       "           0.00816533, -0.00145846,  0.01340849, -0.01006911,  0.01952732],\n",
       "         [ 0.01008801,  0.00135307, -0.0115126 , -0.00349136, -0.00175548,\n",
       "           0.01259692, -0.01788977, -0.01747455, -0.00335201,  0.00770757],\n",
       "         [-0.0051812 , -0.01671031, -0.01600558,  0.00488472,  0.00310151,\n",
       "           0.01437935,  0.01761029, -0.00858634,  0.00084632,  0.01145467],\n",
       "         [ 0.0065305 , -0.00679018, -0.00247612,  0.00194623, -0.00034392,\n",
       "           0.01276916, -0.00199806, -0.00290433, -0.0088934 , -0.00410454]],      dtype=float32),\n",
       "  'b': Array([0., 0., 0., 0., 0., 0., 0., 0., 0., 0.], dtype=float32)}}"
      ]
     },
     "execution_count": 65,
     "metadata": {},
     "output_type": "execute_result"
    }
   ],
   "source": [
    "rng_key_seq = hk.PRNGSequence(0)\n",
    "\n",
    "n, p = 1000, 10\n",
    "y = jr.normal(next(rng_key_seq), (n, p))\n",
    "\n",
    "flow = make_flow(p)\n",
    "params = flow.init(next(rng_key_seq), method=\"log_prob\", y=y)\n",
    "params"
   ]
  },
  {
   "cell_type": "markdown",
   "id": "4c8f8b8e-4e81-4b54-a1c4-72027db33e1c",
   "metadata": {
    "pycharm": {
     "name": "#%% md\n"
    }
   },
   "source": [
    "The only trainable paramaters that are flow defines are the weights of the MLP. The MLP is used to compute the conditional probability density inside the `decoder_fn` function. \n",
    "The `Slice` surjector itself doesn't have paramters."
   ]
  },
  {
   "cell_type": "markdown",
   "id": "84d8368a-2c75-4e72-a3b4-45f4cfc71fbf",
   "metadata": {
    "pycharm": {
     "name": "#%% md\n"
    }
   },
   "source": [
    "We can now test the flow. Let's sample some data first."
   ]
  },
  {
   "cell_type": "code",
   "execution_count": 71,
   "id": "77ae282d-9e30-49c9-98b1-6f9494b34a21",
   "metadata": {
    "tags": [],
    "pycharm": {
     "name": "#%%\n"
    }
   },
   "outputs": [
    {
     "data": {
      "text/plain": [
       "Array([[ 0.5136197 ,  0.4787564 , -0.79882836,  0.6568475 , -1.1301666 ,\n",
       "         0.7758274 , -0.52150553, -0.72154933, -0.17268361,  1.2563365 ],\n",
       "       [ 0.7778937 ,  0.6387316 ,  0.40471345, -0.10387196,  1.2993045 ,\n",
       "         0.5106493 ,  1.2868667 , -0.14718308, -0.7556821 , -1.7023089 ]],      dtype=float32)"
      ]
     },
     "execution_count": 71,
     "metadata": {},
     "output_type": "execute_result"
    }
   ],
   "source": [
    "samples = flow.apply(\n",
    "    params, next(rng_key_seq), method=\"sample\", sample_shape=(2,)\n",
    ")\n",
    "samples"
   ]
  },
  {
   "cell_type": "markdown",
   "id": "04fd204d-f0c2-468b-a64d-ec292b071f34",
   "metadata": {
    "pycharm": {
     "name": "#%% md\n"
    }
   },
   "source": [
    "As mentioned above, in order to dispatch to a method, we just provide a keyword argument. In this case this is `method='sample'`. Computing the log probability of the data can be done, by changing the method argument to `log_prob`."
   ]
  },
  {
   "cell_type": "code",
   "execution_count": 72,
   "id": "2190c369-4242-45ec-9ac9-b9fa5bccc1dd",
   "metadata": {
    "tags": [],
    "pycharm": {
     "name": "#%%\n"
    }
   },
   "outputs": [
    {
     "data": {
      "text/plain": [
       "Array([-12.110363, -13.330914], dtype=float32)"
      ]
     },
     "execution_count": 72,
     "metadata": {},
     "output_type": "execute_result"
    }
   ],
   "source": [
    "flow.apply(params, next(rng_key_seq), method=\"log_prob\", y=samples)"
   ]
  },
  {
   "cell_type": "markdown",
   "id": "8c046ffd-a2b9-4348-b8f3-85e978b7998f",
   "metadata": {
    "pycharm": {
     "name": "#%% md\n"
    }
   },
   "source": [
    "## How to construct `TransformedDistribution` objects\n",
    "\n",
    "The `TransformedDistribution` class takes a base distribution and a transformation that latter of which is a `Slice` surjection. The base distribution can be pretty much every"
   ]
  },
  {
   "cell_type": "code",
   "execution_count": null,
   "id": "10c16d0c-0158-4845-b192-dd97967d7eb6",
   "metadata": {
    "pycharm": {
     "name": "#%%\n"
    }
   },
   "outputs": [],
   "source": []
  }
 ],
 "metadata": {
  "kernelspec": {
   "display_name": "esurjectors-dev",
   "language": "python",
   "name": "esurjectors-dev"
  },
  "language_info": {
   "codemirror_mode": {
    "name": "ipython",
    "version": 3
   },
   "file_extension": ".py",
   "mimetype": "text/x-python",
   "name": "python",
   "nbconvert_exporter": "python",
   "pygments_lexer": "ipython3",
   "version": "3.9.13"
  }
 },
 "nbformat": 4,
 "nbformat_minor": 5
}
